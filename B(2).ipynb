{
 "cells": [
  {
   "cell_type": "code",
   "execution_count": 2,
   "id": "e64b1fa5-2279-4aae-b724-48931d85474a",
   "metadata": {},
   "outputs": [],
   "source": [
    "import pandas as pd\n",
    "d=pd.read_csv(\"C:\\\\Users\\\\Dell\\\\OneDrive\\\\Desktop\\\\Automobile_data.csv\")\n",
    "df=pd.DataFrame(d)\n",
    "mv=df.isnull().sum()\n",
    "df_clean=df.dropna()"
   ]
  },
  {
   "cell_type": "code",
   "execution_count": 3,
   "id": "6ccc6b27-53d8-4a2b-9ac7-b3ccfa3d3179",
   "metadata": {},
   "outputs": [
    {
     "data": {
      "text/html": [
       "<div>\n",
       "<style scoped>\n",
       "    .dataframe tbody tr th:only-of-type {\n",
       "        vertical-align: middle;\n",
       "    }\n",
       "\n",
       "    .dataframe tbody tr th {\n",
       "        vertical-align: top;\n",
       "    }\n",
       "\n",
       "    .dataframe thead th {\n",
       "        text-align: right;\n",
       "    }\n",
       "</style>\n",
       "<table border=\"1\" class=\"dataframe\">\n",
       "  <thead>\n",
       "    <tr style=\"text-align: right;\">\n",
       "      <th></th>\n",
       "      <th>index</th>\n",
       "      <th>wheel-base</th>\n",
       "      <th>length</th>\n",
       "      <th>horsepower</th>\n",
       "      <th>average-mileage</th>\n",
       "      <th>price</th>\n",
       "    </tr>\n",
       "  </thead>\n",
       "  <tbody>\n",
       "    <tr>\n",
       "      <th>count</th>\n",
       "      <td>58.000000</td>\n",
       "      <td>58.000000</td>\n",
       "      <td>58.000000</td>\n",
       "      <td>58.000000</td>\n",
       "      <td>58.000000</td>\n",
       "      <td>58.000000</td>\n",
       "    </tr>\n",
       "    <tr>\n",
       "      <th>mean</th>\n",
       "      <td>40.827586</td>\n",
       "      <td>98.620690</td>\n",
       "      <td>173.646552</td>\n",
       "      <td>106.051724</td>\n",
       "      <td>25.534483</td>\n",
       "      <td>15387.000000</td>\n",
       "    </tr>\n",
       "    <tr>\n",
       "      <th>std</th>\n",
       "      <td>25.865467</td>\n",
       "      <td>6.810589</td>\n",
       "      <td>14.005616</td>\n",
       "      <td>48.915402</td>\n",
       "      <td>7.932203</td>\n",
       "      <td>11320.259841</td>\n",
       "    </tr>\n",
       "    <tr>\n",
       "      <th>min</th>\n",
       "      <td>0.000000</td>\n",
       "      <td>88.400000</td>\n",
       "      <td>141.100000</td>\n",
       "      <td>48.000000</td>\n",
       "      <td>13.000000</td>\n",
       "      <td>5151.000000</td>\n",
       "    </tr>\n",
       "    <tr>\n",
       "      <th>25%</th>\n",
       "      <td>17.250000</td>\n",
       "      <td>94.500000</td>\n",
       "      <td>165.300000</td>\n",
       "      <td>68.000000</td>\n",
       "      <td>19.000000</td>\n",
       "      <td>6808.500000</td>\n",
       "    </tr>\n",
       "    <tr>\n",
       "      <th>50%</th>\n",
       "      <td>41.000000</td>\n",
       "      <td>96.400000</td>\n",
       "      <td>171.450000</td>\n",
       "      <td>100.000000</td>\n",
       "      <td>24.500000</td>\n",
       "      <td>11095.000000</td>\n",
       "    </tr>\n",
       "    <tr>\n",
       "      <th>75%</th>\n",
       "      <td>60.000000</td>\n",
       "      <td>101.800000</td>\n",
       "      <td>182.775000</td>\n",
       "      <td>122.500000</td>\n",
       "      <td>31.000000</td>\n",
       "      <td>18120.500000</td>\n",
       "    </tr>\n",
       "    <tr>\n",
       "      <th>max</th>\n",
       "      <td>88.000000</td>\n",
       "      <td>120.900000</td>\n",
       "      <td>208.100000</td>\n",
       "      <td>262.000000</td>\n",
       "      <td>47.000000</td>\n",
       "      <td>45400.000000</td>\n",
       "    </tr>\n",
       "  </tbody>\n",
       "</table>\n",
       "</div>"
      ],
      "text/plain": [
       "           index  wheel-base      length  horsepower  average-mileage  \\\n",
       "count  58.000000   58.000000   58.000000   58.000000        58.000000   \n",
       "mean   40.827586   98.620690  173.646552  106.051724        25.534483   \n",
       "std    25.865467    6.810589   14.005616   48.915402         7.932203   \n",
       "min     0.000000   88.400000  141.100000   48.000000        13.000000   \n",
       "25%    17.250000   94.500000  165.300000   68.000000        19.000000   \n",
       "50%    41.000000   96.400000  171.450000  100.000000        24.500000   \n",
       "75%    60.000000  101.800000  182.775000  122.500000        31.000000   \n",
       "max    88.000000  120.900000  208.100000  262.000000        47.000000   \n",
       "\n",
       "              price  \n",
       "count     58.000000  \n",
       "mean   15387.000000  \n",
       "std    11320.259841  \n",
       "min     5151.000000  \n",
       "25%     6808.500000  \n",
       "50%    11095.000000  \n",
       "75%    18120.500000  \n",
       "max    45400.000000  "
      ]
     },
     "execution_count": 3,
     "metadata": {},
     "output_type": "execute_result"
    }
   ],
   "source": [
    "df_clean.describe()"
   ]
  },
  {
   "cell_type": "code",
   "execution_count": 4,
   "id": "458f8d53-31a5-40e2-b984-3cebcd73f2c8",
   "metadata": {},
   "outputs": [],
   "source": [
    "body_style_count = df_clean['body-style'].value_counts()"
   ]
  },
  {
   "cell_type": "code",
   "execution_count": 5,
   "id": "71514f87-4da7-4c88-9509-2b86bdd60297",
   "metadata": {},
   "outputs": [
    {
     "data": {
      "text/plain": [
       "sedan          30\n",
       "hatchback      14\n",
       "wagon           9\n",
       "convertible     3\n",
       "hardtop         2\n",
       "Name: body-style, dtype: int64"
      ]
     },
     "execution_count": 5,
     "metadata": {},
     "output_type": "execute_result"
    }
   ],
   "source": [
    "body_style_count"
   ]
  },
  {
   "cell_type": "code",
   "execution_count": null,
   "id": "51a232c2-3486-4352-8a24-bd78a6246b77",
   "metadata": {},
   "outputs": [],
   "source": []
  }
 ],
 "metadata": {
  "kernelspec": {
   "display_name": "Python 3 (ipykernel)",
   "language": "python",
   "name": "python3"
  },
  "language_info": {
   "codemirror_mode": {
    "name": "ipython",
    "version": 3
   },
   "file_extension": ".py",
   "mimetype": "text/x-python",
   "name": "python",
   "nbconvert_exporter": "python",
   "pygments_lexer": "ipython3",
   "version": "3.9.7"
  }
 },
 "nbformat": 4,
 "nbformat_minor": 5
}
