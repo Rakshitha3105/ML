{
 "cells": [
  {
   "cell_type": "code",
   "execution_count": 1,
   "id": "e296a587-3535-434d-a0e1-3dd72a625f3c",
   "metadata": {},
   "outputs": [],
   "source": [
    "import pandas as pd\n",
    "d=pd.read_csv(\"C:\\\\Users\\\\Dell\\\\OneDrive\\\\Desktop\\\\Automobile_data.csv\")\n",
    "df=pd.DataFrame(d)\n",
    "mv=df.isnull().sum()\n",
    "df_clean=df.dropna()"
   ]
  },
  {
   "cell_type": "code",
   "execution_count": 8,
   "id": "adb65895-fbe2-49ea-ba2f-25cee4ff001a",
   "metadata": {},
   "outputs": [],
   "source": [
    "avg_p= df_clean.groupby(\"body-style\")[\"price\"].mean()\n",
    "avg_p_sort = avg_p.sort_values(ascending=False)"
   ]
  },
  {
   "cell_type": "code",
   "execution_count": 9,
   "id": "a7c847ca-78b2-4327-b016-bd1cf5b58323",
   "metadata": {},
   "outputs": [
    {
     "data": {
      "text/plain": [
       "body-style\n",
       "hardtop        39714.000000\n",
       "convertible    22341.000000\n",
       "sedan          17706.333333\n",
       "wagon          12730.111111\n",
       "hatchback       7159.571429\n",
       "Name: price, dtype: float64"
      ]
     },
     "execution_count": 9,
     "metadata": {},
     "output_type": "execute_result"
    }
   ],
   "source": [
    "avg_p_sort"
   ]
  },
  {
   "cell_type": "code",
   "execution_count": null,
   "id": "c9b2ce6b-5b44-41d5-a00d-5d9399a8528b",
   "metadata": {},
   "outputs": [],
   "source": []
  }
 ],
 "metadata": {
  "kernelspec": {
   "display_name": "Python 3 (ipykernel)",
   "language": "python",
   "name": "python3"
  },
  "language_info": {
   "codemirror_mode": {
    "name": "ipython",
    "version": 3
   },
   "file_extension": ".py",
   "mimetype": "text/x-python",
   "name": "python",
   "nbconvert_exporter": "python",
   "pygments_lexer": "ipython3",
   "version": "3.9.7"
  }
 },
 "nbformat": 4,
 "nbformat_minor": 5
}
